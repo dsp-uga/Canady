{
 "cells": [
  {
   "cell_type": "code",
   "execution_count": 1,
   "metadata": {},
   "outputs": [],
   "source": [
    "import thunder as td\n",
    "from extraction import NMF\n",
    "from os import listdir\n",
    "import json"
   ]
  },
  {
   "cell_type": "markdown",
   "metadata": {},
   "source": [
    "# Getting List of All test data"
   ]
  },
  {
   "cell_type": "code",
   "execution_count": 3,
   "metadata": {},
   "outputs": [],
   "source": [
    "path = \"/home/vyom/UGA/DSP/Project3/data/test/\"\n",
    "onlyfiles = [f for f in listdir(path)]"
   ]
  },
  {
   "cell_type": "code",
   "execution_count": 16,
   "metadata": {},
   "outputs": [
    {
     "data": {
      "text/plain": [
       "['neurofinder.01.01.test',\n",
       " 'neurofinder.01.00.test',\n",
       " 'neurofinder.04.00.test',\n",
       " 'neurofinder.00.01.test',\n",
       " 'neurofinder.00.00.test',\n",
       " 'neurofinder.03.00.test',\n",
       " 'neurofinder.04.01.test',\n",
       " 'neurofinder.02.01.test',\n",
       " 'neurofinder.02.00.test']"
      ]
     },
     "execution_count": 16,
     "metadata": {},
     "output_type": "execute_result"
    }
   ],
   "source": [
    "onlyfiles"
   ]
  },
  {
   "cell_type": "markdown",
   "metadata": {},
   "source": [
    "# Creating list of thunder image Vectors of all dataset"
   ]
  },
  {
   "cell_type": "code",
   "execution_count": 5,
   "metadata": {},
   "outputs": [
    {
     "name": "stdout",
     "output_type": "stream",
     "text": [
      "DATA READ!\n"
     ]
    }
   ],
   "source": [
    "data=list()\n",
    "for i in range (len(onlyfiles)):\n",
    "    data.append(td.images.fromtif(path=path+onlyfiles[i]+'/images',ext=\"tiff\"))\n",
    "print(\"DATA READ!\")"
   ]
  },
  {
   "cell_type": "code",
   "execution_count": 6,
   "metadata": {},
   "outputs": [],
   "source": [
    "#data = td.images.fromtif(path='/home/vyom/UGA/DSP/Project3/data/training/neurofinder.00.00/images',engine=sc,ext=\"tiff\")"
   ]
  },
  {
   "cell_type": "markdown",
   "metadata": {},
   "source": [
    "# Creating NMF model"
   ]
  },
  {
   "cell_type": "code",
   "execution_count": 6,
   "metadata": {},
   "outputs": [],
   "source": [
    "algorithm = NMF(k=10, max_iter=20, percentile=95, overlap=0.1)"
   ]
  },
  {
   "cell_type": "markdown",
   "metadata": {},
   "source": [
    "# Fitting models for each dataset"
   ]
  },
  {
   "cell_type": "code",
   "execution_count": 7,
   "metadata": {},
   "outputs": [],
   "source": [
    "model=list()\n",
    "for i in range(len(data)):\n",
    "    model.append(algorithm.fit(data[i], chunk_size=(50,50)))"
   ]
  },
  {
   "cell_type": "code",
   "execution_count": 51,
   "metadata": {},
   "outputs": [],
   "source": [
    "merged=list()\n",
    "for i in range(len(model)):\n",
    "    merged.append(model[i].merge(overlap=0.1))"
   ]
  },
  {
   "cell_type": "code",
   "execution_count": 48,
   "metadata": {},
   "outputs": [],
   "source": [
    "for i in range(len(merged)):\n",
    "    coordinates = [{'coordinates': x.coordinates.tolist()} for x in merged[i].regions]\n",
    "    jsonString = {'dataset': onlyfiles[i].replace(\"neurofinder.\",\"\"), 'regions': coordinates}\n",
    "    with open('output' + onlyfiles[i].replace(\"neurofinder.\",\"\")  +'.json', 'w') as f:\n",
    "        f.write(json.dumps(jsonString))"
   ]
  }
 ],
 "metadata": {
  "kernelspec": {
   "display_name": "Python 3",
   "language": "python",
   "name": "python3"
  },
  "language_info": {
   "codemirror_mode": {
    "name": "ipython",
    "version": 3
   },
   "file_extension": ".py",
   "mimetype": "text/x-python",
   "name": "python",
   "nbconvert_exporter": "python",
   "pygments_lexer": "ipython3",
   "version": "3.5.2"
  }
 },
 "nbformat": 4,
 "nbformat_minor": 2
}
